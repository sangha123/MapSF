{
 "metadata": {
  "name": "CrimeNeighb"
 },
 "nbformat": 3,
 "nbformat_minor": 0,
 "worksheets": [
  {
   "cells": [
    {
     "cell_type": "code",
     "collapsed": false,
     "input": [
      "from pandas import DataFrame,Series\n",
      "import numpy,scipy\n"
     ],
     "language": "python",
     "metadata": {},
     "outputs": [],
     "prompt_number": 64
    },
    {
     "cell_type": "code",
     "collapsed": false,
     "input": [
      "import json\n"
     ],
     "language": "python",
     "metadata": {},
     "outputs": [],
     "prompt_number": 65
    },
    {
     "cell_type": "code",
     "collapsed": false,
     "input": [
      "rec=json.load(open(\"gxxq-x39z.json\"))"
     ],
     "language": "python",
     "metadata": {},
     "outputs": [],
     "prompt_number": 66
    },
    {
     "cell_type": "code",
     "collapsed": false,
     "input": [
      "recFrame=DataFrame(rec)\n",
      "recFrame['location'][0]['latitude']"
     ],
     "language": "python",
     "metadata": {},
     "outputs": [
      {
       "output_type": "pyout",
       "prompt_number": 67,
       "text": [
        "u'37.7978371948925'"
       ]
      }
     ],
     "prompt_number": 67
    },
    {
     "cell_type": "code",
     "collapsed": false,
     "input": [
      "#This is a function that calculates whether the points (x,y) lie in the polygon defined by [[x1,y1],[x2,y2],...]\n",
      "\n",
      "def point_inside_polygon(x,y,poly):\n",
      "\n",
      "    n = len(poly)\n",
      "    #print n\n",
      "    inside =False\n",
      "\n",
      "    p1x,p1y = poly[0]\n",
      "    for i in range(n+1):\n",
      "        p2x,p2y = poly[i % n]\n",
      "        #print p2x,p2y\n",
      "        if y > min(p1y,p2y):\n",
      "            if y <= max(p1y,p2y):\n",
      "                if x <= max(p1x,p2x):\n",
      "                    if p1y != p2y:\n",
      "                        xinters = (y-p1y)*(p2x-p1x)/(p2y-p1y)+p1x\n",
      "                    if p1x == p2x or x <= xinters:\n",
      "                        inside = not inside\n",
      "        p1x,p1y = p2x,p2y\n",
      "\n",
      "    return inside"
     ],
     "language": "python",
     "metadata": {},
     "outputs": [],
     "prompt_number": 68
    },
    {
     "cell_type": "code",
     "collapsed": false,
     "input": [
      "import os"
     ],
     "language": "python",
     "metadata": {},
     "outputs": [],
     "prompt_number": 69
    },
    {
     "cell_type": "code",
     "collapsed": false,
     "input": [
      "pathNeib='/Users/sanghamitradeb/JSites/NeighborhoodJSON/'"
     ],
     "language": "python",
     "metadata": {},
     "outputs": [],
     "prompt_number": 70
    },
    {
     "cell_type": "code",
     "collapsed": false,
     "input": [
      "files=os.listdir(pathNeib) # Doing a test case\n",
      "#print files"
     ],
     "language": "python",
     "metadata": {},
     "outputs": [],
     "prompt_number": 71
    },
    {
     "cell_type": "code",
     "collapsed": false,
     "input": [
      "JP=json.dumps([{\"Neighborhood\":\"Bayview\",\"CrimeType\":{\"Arson\":\"20\",\"Theft\":\"15\"}}])"
     ],
     "language": "python",
     "metadata": {},
     "outputs": [],
     "prompt_number": 72
    },
    {
     "cell_type": "code",
     "collapsed": false,
     "input": [
      "lat0=recFrame.location[0]['latitude']"
     ],
     "language": "python",
     "metadata": {},
     "outputs": [],
     "prompt_number": 73
    },
    {
     "cell_type": "code",
     "collapsed": false,
     "input": [
      "lon0=recFrame.location[0]['longitude']"
     ],
     "language": "python",
     "metadata": {},
     "outputs": [],
     "prompt_number": 74
    },
    {
     "cell_type": "code",
     "collapsed": false,
     "input": [
      "PolyData=json.load(open(pathNeib+files[1]))"
     ],
     "language": "python",
     "metadata": {},
     "outputs": [],
     "prompt_number": 75
    },
    {
     "cell_type": "code",
     "collapsed": false,
     "input": [
      "#PolyData['features'][0]['geometry']['coordinates'][0]"
     ],
     "language": "python",
     "metadata": {},
     "outputs": [],
     "prompt_number": 76
    },
    {
     "cell_type": "code",
     "collapsed": false,
     "input": [
      "byCategory=recFrame.groupby('category')\n",
      "Type=byCategory.size().index\n",
      "id=numpy.where(Type=='DRIVING UNDER THE INFLUENCE')\n",
      "id[0][0]"
     ],
     "language": "python",
     "metadata": {},
     "outputs": [
      {
       "output_type": "pyout",
       "prompt_number": 77,
       "text": [
        "4"
       ]
      }
     ],
     "prompt_number": 77
    },
    {
     "cell_type": "code",
     "collapsed": false,
     "input": [
      "outp=point_inside_polygon(recFrame.location[0]['latitude'],recFrame.location[0]['longitude'],PolyData['features'][0]['geometry']['coordinates'][0])"
     ],
     "language": "python",
     "metadata": {},
     "outputs": [],
     "prompt_number": 78
    },
    {
     "cell_type": "code",
     "collapsed": false,
     "input": [
      "#The real code.\n",
      "\n",
      "outcome=[]\n",
      "\n",
      "JP=json.dumps([{\"Neighborhood\":\"Bayview\",\"CrimeType\":{\"Arson\":\"20\",\"Theft\":\"15\"}}])\n",
      "Neigcat=numpy.zeros((len(files),len(Type)),dtype='int')\n",
      "for i in xrange(len(rec)):\n",
      "    x=recFrame.location[i]['latitude']\n",
      "    y=recFrame.location[i]['longitude']\n",
      "    for j in xrange(len(files)):\n",
      "        #print files[j]\n",
      "        PolyData=json.load(open(pathNeib+files[j]))\n",
      "        if (PolyData['features'][0]['geometry']['type']=='Polygon'):\n",
      "            #print \"bull\"\n",
      "            dct=  PolyData['features'][0]['geometry']['coordinates'][0]\n",
      "            outp=point_inside_polygon(eval(recFrame.location[i]['longitude']),eval(recFrame.location[i]['latitude']),dct)\n",
      "            #print recFrame.location[i]['longitude'],recFrame.location[i]['latitude']\n",
      "            #outp=point_inside_polygon(-122.43596394723758, 37.76903838537969 , dct)\n",
      "            #print outp\n",
      "            #print numpy.min(numpy.array(dct),axis=0),numpy.max(numpy.array(dct),axis=0),recFrame.location[i]['longitude'],recFrame.location[i]['latitude']\n",
      "        else:\n",
      "            #print \"not bull\"\n",
      "            for dct in PolyData['features'][0]['geometry']['coordinates'][:][0]:\n",
      "                outp=point_inside_polygon(eval(recFrame.location[i]['longitude']),eval(recFrame.location[i]['latitude']),dct)\n",
      "                #print \"outp\", outp\n",
      "                #print dct\n",
      "                #print numpy.min(numpy.array(dct),axis=0),numpy.max(numpy.array(dct),axis=0),recFrame.location[i]['longitude'],recFrame.location[i]['latitude']\n",
      "        #MeanLoc= numpy.mean(numpy.array(dct),axis=0)\n",
      "        \n",
      "        #outp=point_inside_polygon(MeanLoc[0],MeanLoc[1],dct)\n",
      "        #outp=point_inside_polygon(recFrame.location[i]['longitude'],recFrame.location[i]['latitude'],dct)\n",
      "        #print recFrame.location[i]['longitude'],recFrame.location[i]['latitude'],min(dct),max(dct)\n",
      "        #print dct\n",
      "        #PolyData.clear()\n",
      "        \n",
      "        if (outp==True):\n",
      "            #print outp\n",
      "            id=numpy.where(Type==recFrame.category[i])\n",
      "            Neigcat[j,id[0][0]]+=1\n",
      "            #print files[j]"
     ],
     "language": "python",
     "metadata": {},
     "outputs": [],
     "prompt_number": 79
    },
    {
     "cell_type": "code",
     "collapsed": false,
     "input": [
      "PolyData=json.load(open(pathNeib+files[j]))\n",
      "\n",
      "PolyData['features'][0]['geometry']['type']"
     ],
     "language": "python",
     "metadata": {},
     "outputs": [
      {
       "output_type": "pyout",
       "prompt_number": 80,
       "text": [
        "u'Polygon'"
       ]
      }
     ],
     "prompt_number": 80
    },
    {
     "cell_type": "code",
     "collapsed": false,
     "input": [
      "dct[0]"
     ],
     "language": "python",
     "metadata": {},
     "outputs": [
      {
       "output_type": "pyout",
       "prompt_number": 81,
       "text": [
        "[-122.42221320206116, 37.77290510556542]"
       ]
      }
     ],
     "prompt_number": 81
    },
    {
     "cell_type": "code",
     "collapsed": false,
     "input": [],
     "language": "python",
     "metadata": {},
     "outputs": [],
     "prompt_number": 81
    },
    {
     "cell_type": "code",
     "collapsed": false,
     "input": [
      "len(files)\n"
     ],
     "language": "python",
     "metadata": {},
     "outputs": [
      {
       "output_type": "pyout",
       "prompt_number": 82,
       "text": [
        "34"
       ]
      }
     ],
     "prompt_number": 82
    },
    {
     "cell_type": "code",
     "collapsed": false,
     "input": [
      "min(dct\n",
      ")[1]\n"
     ],
     "language": "python",
     "metadata": {},
     "outputs": [
      {
       "output_type": "pyout",
       "prompt_number": 83,
       "text": [
        "37.785310414989304"
       ]
      }
     ],
     "prompt_number": 83
    },
    {
     "cell_type": "code",
     "collapsed": false,
     "input": [],
     "language": "python",
     "metadata": {},
     "outputs": [],
     "prompt_number": 83
    },
    {
     "cell_type": "code",
     "collapsed": false,
     "input": [],
     "language": "python",
     "metadata": {},
     "outputs": [],
     "prompt_number": 83
    },
    {
     "cell_type": "code",
     "collapsed": false,
     "input": [],
     "language": "python",
     "metadata": {},
     "outputs": [],
     "prompt_number": 83
    },
    {
     "cell_type": "code",
     "collapsed": false,
     "input": [],
     "language": "python",
     "metadata": {},
     "outputs": [],
     "prompt_number": 83
    },
    {
     "cell_type": "code",
     "collapsed": false,
     "input": [
      "polygon = [(0,10),(10,10),(10,0),(0,0)]\n",
      "\n",
      "point_x = 5\n",
      "point_y = 5"
     ],
     "language": "python",
     "metadata": {},
     "outputs": [],
     "prompt_number": 84
    },
    {
     "cell_type": "code",
     "collapsed": false,
     "input": [
      "print point_inside_polygon(point_x,point_y,polygon)"
     ],
     "language": "python",
     "metadata": {},
     "outputs": [
      {
       "output_type": "stream",
       "stream": "stdout",
       "text": [
        "True\n"
       ]
      }
     ],
     "prompt_number": 85
    },
    {
     "cell_type": "code",
     "collapsed": false,
     "input": [],
     "language": "python",
     "metadata": {},
     "outputs": [],
     "prompt_number": 85
    },
    {
     "cell_type": "code",
     "collapsed": false,
     "input": [
      "for i in xrange(len(files)):\n",
      "    barh(arange(len(Type)),Neigcat[i,:])\n",
      "    yticks(arange(len(Type)),Type)\n",
      "    savefig(files[i][:-5]+'.png')\n",
      "    close()"
     ],
     "language": "python",
     "metadata": {},
     "outputs": [],
     "prompt_number": 86
    },
    {
     "cell_type": "code",
     "collapsed": false,
     "input": [],
     "language": "python",
     "metadata": {},
     "outputs": [],
     "prompt_number": 86
    },
    {
     "cell_type": "code",
     "collapsed": false,
     "input": [],
     "language": "python",
     "metadata": {},
     "outputs": [],
     "prompt_number": 86
    }
   ],
   "metadata": {}
  }
 ]
}